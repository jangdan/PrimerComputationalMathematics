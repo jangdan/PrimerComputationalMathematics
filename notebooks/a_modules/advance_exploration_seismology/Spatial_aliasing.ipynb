{
 "cells": [
  {
   "cell_type": "markdown",
   "metadata": {},
   "source": [
    "# Spatial Aliasing"
   ]
  },
  {
   "cell_type": "markdown",
   "metadata": {},
   "source": [
    "## What is it?\n",
    "We have already considered the issue of temporal aliasing, which occurs when the sampling rate of our seismic data is too low to properly sample high-frequencies in the dataset. One of the solution is cutting away the aliased frequencies (> $f_{notch}$) using filters. \n",
    "\n",
    "As seismic data is sampled also in the distance $x$ dimension, a similar issue of spatial aliasing can occur. Spatial aliasing can result in inaccurate representation of dips in our seismic data, leading to issues with migration and other dip dependant processes."
   ]
  },
  {
   "cell_type": "markdown",
   "metadata": {},
   "source": [
    "## Spatial Nyquist Frequency\n",
    "The spatial Nyquist frequency depends on the dip of a given reflector and the trace spacing of our seismic dataset.\n",
    "\n",
    "As with regular temporal aliasing, we observe spatial aliasing at frequencies where the wavenumber $k$ is too high for each cycle to be sampled twice by a given trace interval $x$:\n",
    "\n",
    "$$k_{Nyq}=\\frac{1}{2{\\delta}x}$$\n",
    "\n",
    "Temporal aliasing will occur at the spatial Nyquist frequency when:\n",
    "\n",
    "$$f_{Nyq}=v*k_{Nyq}$$\n",
    "\n",
    "When dealing with gathers in time, <br>\n",
    "we can consider velocity $v$ as a function of dip (${\\alpha}$, in ms/trace):\n",
    "\n",
    "$$v=\\frac{1000{\\delta}x}{\\alpha}$$\n",
    "\n",
    "Which combined give:\n",
    "\n",
    "$$f_{Nyq}=\\frac{500}{\\alpha}$$"
   ]
  },
  {
   "cell_type": "code",
   "execution_count": null,
   "metadata": {},
   "outputs": [],
   "source": []
  }
 ],
 "metadata": {
  "kernelspec": {
   "display_name": "Python 3",
   "language": "python",
   "name": "python3"
  },
  "language_info": {
   "codemirror_mode": {
    "name": "ipython",
    "version": 3
   },
   "file_extension": ".py",
   "mimetype": "text/x-python",
   "name": "python",
   "nbconvert_exporter": "python",
   "pygments_lexer": "ipython3",
   "version": "3.8.3"
  }
 },
 "nbformat": 4,
 "nbformat_minor": 4
}
